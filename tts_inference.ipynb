{
 "cells": [
  {
   "cell_type": "markdown",
   "metadata": {},
   "source": [
    "# TTS Inference\n",
    "\n",
    "This notebook can be used to generate audio samples using either NeMo's pretrained models or after training NeMo TTS models. This script currently uses a two step inference procedure. First, a model is used to generate a mel spectrogram from text. Second, a model is used to generate audio from a mel spectrogram.\n",
    "\n",
    "Currently supported models are:\n",
    "Mel Spectrogram Generators:\n",
    "- Tacotron 2\n",
    "- Glow-TTS\n",
    "\n",
    "Audio Generators\n",
    "- Grifflin-Lim\n",
    "- WaveGlow\n",
    "- SqueezeWave"
   ]
  },
  {
   "cell_type": "markdown",
   "metadata": {},
   "source": [
    "# License\n",
    "\n",
    "> Copyright 2020 NVIDIA. All Rights Reserved.\n",
    "> \n",
    "> Licensed under the Apache License, Version 2.0 (the \"License\");\n",
    "> you may not use this file except in compliance with the License.\n",
    "> You may obtain a copy of the License at\n",
    "> \n",
    ">     http://www.apache.org/licenses/LICENSE-2.0\n",
    "> \n",
    "> Unless required by applicable law or agreed to in writing, software\n",
    "> distributed under the License is distributed on an \"AS IS\" BASIS,\n",
    "> WITHOUT WARRANTIES OR CONDITIONS OF ANY KIND, either express or implied.\n",
    "> See the License for the specific language governing permissions and\n",
    "> limitations under the License."
   ]
  },
  {
   "cell_type": "code",
   "execution_count": null,
   "metadata": {
    "tags": []
   },
   "outputs": [],
   "source": [
    "\"\"\"\n",
    "You can run either this notebook locally (if you have all the dependencies and a GPU) or on Google Colab.\n",
    "Instructions for setting up Colab are as follows:\n",
    "1. Open a new Python 3 notebook.\n",
    "2. Import this notebook from GitHub (File -> Upload Notebook -> \"GITHUB\" tab -> copy/paste GitHub URL)\n",
    "3. Connect to an instance with a GPU (Runtime -> Change runtime type -> select \"GPU\" for hardware accelerator)\n",
    "4. Run this cell to set up dependencies.\n",
    "\"\"\"\n",
    "# # If you're using Google Colab and not running locally, uncomment and run this cell.\n",
    "# !apt-get install sox libsndfile1 ffmpeg\n",
    "# !pip install wget unidecode\n",
    "# !pip install git+git://github.com/nvidia/NeMo.git@main#egg=nemo_toolkit[tts]"
   ]
  },
  {
   "cell_type": "code",
   "execution_count": 2,
   "metadata": {
    "tags": []
   },
   "outputs": [
    {
     "name": "stdout",
     "output_type": "stream",
     "text": [
      "Choose one of the following spectrogram generators:\n",
      "['tacotron2', 'glow_tts']\n",
      "Choose one of the following audio generators:\n",
      "['griffin_lim', 'waveglow', 'squeezewave']\n"
     ]
    }
   ],
   "source": [
    "supported_spec_gen = [\"tacotron2\", \"glow_tts\"]\n",
    "supported_audio_gen = [\"griffin_lim\", \"waveglow\", \"squeezewave\"]\n",
    "\n",
    "print(\"Choose one of the following spectrogram generators:\")\n",
    "print([model for model in supported_spec_gen])\n",
    "spectrogram_generator = input()\n",
    "print(\"Choose one of the following audio generators:\")\n",
    "print([model for model in supported_audio_gen])\n",
    "audio_generator = input()\n",
    "\n",
    "assert spectrogram_generator in supported_spec_gen\n",
    "assert audio_generator in supported_audio_gen"
   ]
  },
  {
   "cell_type": "markdown",
   "metadata": {},
   "source": [
    "# Load model checkpoints\n",
    "\n",
    "Note: For best quality with Glow TTS, please update the glow tts yaml file with the path to cmudict"
   ]
  },
  {
   "cell_type": "code",
   "execution_count": 3,
   "metadata": {
    "tags": []
   },
   "outputs": [
    {
     "name": "stderr",
     "output_type": "stream",
     "text": [
      "[NeMo W 2023-04-04 12:15:21 optimizers:54] Apex was not found. Using the lamb or fused_adam optimizer will error out.\n",
      "[NeMo W 2023-04-04 12:15:22 nemo_logging:349] /home/user/nemo/.venv/lib/python3.10/site-packages/pydub/utils.py:170: RuntimeWarning: Couldn't find ffmpeg or avconv - defaulting to ffmpeg, but may not work\n",
      "      warn(\"Couldn't find ffmpeg or avconv - defaulting to ffmpeg, but may not work\", RuntimeWarning)\n",
      "    \n",
      "[NeMo W 2023-04-04 12:15:23 experimental:27] Module <class 'nemo.collections.asr.modules.audio_modules.SpectrogramToMultichannelFeatures'> is experimental, not ready for production and is not fully supported. Use at your own risk.\n"
     ]
    },
    {
     "ename": "ImportError",
     "evalue": "cannot import name 'parsers' from 'nemo.collections.asr.parts' (/home/user/nemo/.venv/lib/python3.10/site-packages/nemo/collections/asr/parts/__init__.py)",
     "output_type": "error",
     "traceback": [
      "\u001b[0;31m---------------------------------------------------------------------------\u001b[0m",
      "\u001b[0;31mImportError\u001b[0m                               Traceback (most recent call last)",
      "Cell \u001b[0;32mIn[3], line 4\u001b[0m\n\u001b[1;32m      2\u001b[0m \u001b[39mimport\u001b[39;00m \u001b[39mtorch\u001b[39;00m\n\u001b[1;32m      3\u001b[0m \u001b[39mfrom\u001b[39;00m \u001b[39mruamel\u001b[39;00m\u001b[39m.\u001b[39;00m\u001b[39myaml\u001b[39;00m \u001b[39mimport\u001b[39;00m YAML\n\u001b[0;32m----> 4\u001b[0m \u001b[39mfrom\u001b[39;00m \u001b[39mnemo\u001b[39;00m\u001b[39m.\u001b[39;00m\u001b[39mcollections\u001b[39;00m\u001b[39m.\u001b[39;00m\u001b[39masr\u001b[39;00m\u001b[39m.\u001b[39;00m\u001b[39mparts\u001b[39;00m \u001b[39mimport\u001b[39;00m parsers\n\u001b[1;32m      6\u001b[0m SAMPLE_RATE \u001b[39m=\u001b[39m \u001b[39m22050\u001b[39m\n\u001b[1;32m      7\u001b[0m NFFT \u001b[39m=\u001b[39m \u001b[39m1024\u001b[39m\n",
      "\u001b[0;31mImportError\u001b[0m: cannot import name 'parsers' from 'nemo.collections.asr.parts' (/home/user/nemo/.venv/lib/python3.10/site-packages/nemo/collections/asr/parts/__init__.py)"
     ]
    }
   ],
   "source": [
    "from omegaconf import OmegaConf, open_dict\n",
    "import torch\n",
    "from ruamel.yaml import YAML\n",
    "from nemo.collections.asr.parts import parsers\n",
    "\n",
    "SAMPLE_RATE = 22050\n",
    "NFFT = 1024\n",
    "NMEL = 80\n",
    "FMAX = None\n",
    "\n",
    "def load_spectrogram_model():\n",
    "    if spectrogram_generator == \"tacotron2\":\n",
    "        from nemo.collections.tts.models import Tacotron2Model as SpecModel\n",
    "        pretrained_model = \"Tacotron2-22050Hz\"\n",
    "    elif spectrogram_generator == \"glow_tts\":\n",
    "        from nemo.collections.tts.models import GlowTTSModel as SpecModel\n",
    "        pretrained_model = \"GlowTTS-22050Hz\"\n",
    "    else:\n",
    "        raise NotImplementedError\n",
    "\n",
    "    model = SpecModel.from_pretrained(pretrained_model)\n",
    "    with open_dict(model._cfg):\n",
    "        global SAMPLE_RATE\n",
    "        global NFFT\n",
    "        global NMEL\n",
    "        global FMAX\n",
    "        SAMPLE_RATE = model._cfg.sample_rate or SAMPLE_RATE\n",
    "        NFFT = model._cfg.n_fft or NFFT\n",
    "        NMEL = model._cfg.n_mels or NMEL\n",
    "        FMAX = model._cfg.fmax or FMAX\n",
    "    return model\n",
    "\n",
    "def load_vocoder_model():\n",
    "    if audio_generator == \"waveglow\":\n",
    "        from nemo.collections.tts.models import WaveGlowModel as VocoderModel\n",
    "        pretrained_model = \"WaveGlow-22050Hz\"\n",
    "    elif audio_generator == \"squeezewave\":\n",
    "        from nemo.collections.tts.models import SqueezeWaveModel as VocoderModel\n",
    "        pretrained_model = \"SqueezeWave-22050Hz\"\n",
    "    elif audio_generator == \"griffin_lim\":\n",
    "        from nemo.collections.tts.helpers.helpers import griffin_lim\n",
    "        import numpy as np\n",
    "        import librosa\n",
    "        class GL:\n",
    "            def __init__(self):\n",
    "                pass\n",
    "            def convert_spectrogram_to_audio(self, spec):\n",
    "                log_mel_spec = spec.squeeze().to('cpu').numpy().T\n",
    "                mel_spec = np.exp(log_mel_spec)\n",
    "                mel_pseudo_inverse = librosa.filters.mel(SAMPLE_RATE, NFFT, NMEL, fmax=FMAX)\n",
    "                return griffin_lim(np.dot(mel_spec, mel_pseudo_inverse).T ** 1.2)\n",
    "            def load_state_dict(self, *args, **kwargs):\n",
    "                pass\n",
    "            def cuda(self, *args, **kwargs):\n",
    "                return self\n",
    "        return GL()\n",
    "    else:\n",
    "        raise NotImplementedError\n",
    "\n",
    "    model = VocoderModel.from_pretrained(pretrained_model)\n",
    "    with open_dict(model._cfg):\n",
    "        global SAMPLE_RATE\n",
    "        global NFFT\n",
    "        global NMEL\n",
    "        global FMAX\n",
    "        if model._cfg.sample_rate is not None and SAMPLE_RATE is not None:\n",
    "            assert model._cfg.sample_rate == SAMPLE_RATE\n",
    "        if model._cfg.n_fft is not None and NFFT is not None:\n",
    "            assert _cfg.n_fft == NFFT\n",
    "        if model._cfg.n_mels is not None and NMEL is not None:\n",
    "            assert model._cfg.n_mels == NMEL\n",
    "        if model._cfg.fmax is not None and FMAX is not None:\n",
    "            assert model._cfg.fmax == FMAX\n",
    "    return model\n",
    "\n",
    "spec_gen = load_spectrogram_model().cuda()\n",
    "vocoder = load_vocoder_model().cuda()"
   ]
  },
  {
   "cell_type": "code",
   "execution_count": null,
   "metadata": {},
   "outputs": [],
   "source": [
    "def infer(spec_gen_model, vocder_model, str_input):\n",
    "    with torch.no_grad():\n",
    "        parsed = spec_gen.parse(str_input)\n",
    "        spectrogram = spec_gen.generate_spectrogram(tokens=parsed)\n",
    "        audio = vocoder.convert_spectrogram_to_audio(spec=spectrogram)\n",
    "    if isinstance(spectrogram, torch.Tensor):\n",
    "        spectrogram = spectrogram.to('cpu').numpy()\n",
    "    if len(spectrogram.shape) == 3:\n",
    "        spectrogram = spectrogram[0]\n",
    "    if isinstance(audio, torch.Tensor):\n",
    "        audio = audio.to('cpu').numpy()\n",
    "    return spectrogram, audio"
   ]
  },
  {
   "cell_type": "code",
   "execution_count": null,
   "metadata": {},
   "outputs": [],
   "source": [
    "text_to_generate = input(\"Input what you want the model to say: \")\n",
    "spec, audio = infer(spec_gen, vocoder, text_to_generate)"
   ]
  },
  {
   "cell_type": "markdown",
   "metadata": {},
   "source": [
    "# Show Audio and Spectrogram"
   ]
  },
  {
   "cell_type": "code",
   "execution_count": null,
   "metadata": {},
   "outputs": [],
   "source": [
    "import IPython.display as ipd\n",
    "import numpy as np\n",
    "from PIL import Image\n",
    "from matplotlib.pyplot import imshow\n",
    "from matplotlib import pyplot as plt\n",
    "\n",
    "\n",
    "ipd.Audio(audio, rate=SAMPLE_RATE)"
   ]
  },
  {
   "cell_type": "code",
   "execution_count": null,
   "metadata": {},
   "outputs": [],
   "source": [
    "%matplotlib inline\n",
    "imshow(spec, origin=\"lower\")\n",
    "plt.show()"
   ]
  }
 ],
 "metadata": {
  "kernelspec": {
   "display_name": "Python 3",
   "language": "python",
   "name": "python3"
  },
  "language_info": {
   "codemirror_mode": {
    "name": "ipython",
    "version": 3
   },
   "file_extension": ".py",
   "mimetype": "text/x-python",
   "name": "python",
   "nbconvert_exporter": "python",
   "pygments_lexer": "ipython3",
   "version": "3.10.6"
  }
 },
 "nbformat": 4,
 "nbformat_minor": 4
}
